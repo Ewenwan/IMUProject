{
 "cells": [
  {
   "cell_type": "code",
   "execution_count": 1,
   "metadata": {
    "collapsed": false
   },
   "outputs": [],
   "source": [
    "%matplotlib notebook\n",
    "import numpy as np\n",
    "import tensorflow as tf\n",
    "import pandas\n",
    "import matplotlib.pyplot as plt\n",
    "from sklearn.metrics import r2_score, mean_squared_error\n",
    "from speed_regression import training_data as td\n",
    "from speed_regression import rnn\n",
    "from scipy.ndimage.filters import gaussian_filter1d\n",
    "nano_to_sec = 1e09\n",
    "\n",
    "# configure the size of plot\n",
    "fig_size = plt.rcParams['figure.figsize']\n",
    "fig_size[0] = 12\n",
    "fig_size[1] = 9"
   ]
  },
  {
   "cell_type": "code",
   "execution_count": 5,
   "metadata": {
    "collapsed": false,
    "scrolled": false
   },
   "outputs": [
    {
     "name": "stdout",
     "output_type": "stream",
     "text": [
      "Loading\n",
      "[]\n"
     ]
    },
    {
     "ename": "IndexError",
     "evalue": "list index out of range",
     "output_type": "error",
     "traceback": [
      "\u001b[0;31m---------------------------------------------------------------------------\u001b[0m",
      "\u001b[0;31mIndexError\u001b[0m                                Traceback (most recent call last)",
      "\u001b[0;32m<ipython-input-5-b583912856b3>\u001b[0m in \u001b[0;36m<module>\u001b[0;34m()\u001b[0m\n\u001b[1;32m     32\u001b[0m     \u001b[0mnum_layer\u001b[0m \u001b[0;34m=\u001b[0m \u001b[0mtf\u001b[0m\u001b[0;34m.\u001b[0m\u001b[0mget_collection\u001b[0m\u001b[0;34m(\u001b[0m\u001b[0;34m'num_layer'\u001b[0m\u001b[0;34m)\u001b[0m\u001b[0;34m[\u001b[0m\u001b[0;36m0\u001b[0m\u001b[0;34m]\u001b[0m\u001b[0;34m\u001b[0m\u001b[0m\n\u001b[1;32m     33\u001b[0m     \u001b[0mprint\u001b[0m\u001b[0;34m(\u001b[0m\u001b[0mtf\u001b[0m\u001b[0;34m.\u001b[0m\u001b[0mget_collection\u001b[0m\u001b[0;34m(\u001b[0m\u001b[0;34m'target_mean_x'\u001b[0m\u001b[0;34m)\u001b[0m\u001b[0;34m)\u001b[0m\u001b[0;34m\u001b[0m\u001b[0m\n\u001b[0;32m---> 34\u001b[0;31m     target_mean =  np.array([tf.get_collection('target_mean_x')[0],\n\u001b[0m\u001b[1;32m     35\u001b[0m                              tf.get_collection('target_mean_z')[0]])\n\u001b[1;32m     36\u001b[0m     target_variance = np.array([tf.get_collection('target_variance_x')[0], \n",
      "\u001b[0;31mIndexError\u001b[0m: list index out of range"
     ]
    }
   ],
   "source": [
    "# load data\n",
    "data_all = pandas.read_csv('../../data/motion_demo/normal/processed/data.csv')\n",
    "\n",
    "feature = data_all[['gyro_x', 'gyro_y', 'gyro_z', 'linacce_x', 'linacce_y', 'linacce_z',\n",
    "                   'grav_x', 'grav_y', 'grav_z']].values\n",
    "ts = data_all['time'].values / nano_to_sec\n",
    "position = data_all[['pos_x', 'pos_y', 'pos_z']].values\n",
    "orientation = data_all[['ori_w', 'ori_x', 'ori_y', 'ori_z']].values\n",
    "gravity = data_all[['grav_x', 'grav_y', 'grav_z']].values\n",
    "\n",
    "target = td.compute_local_speed_with_gravity(ts, position, orientation, gravity)\n",
    "target_smooth_sigma = 30.0\n",
    "target = gaussian_filter1d(target, sigma=target_smooth_sigma, axis=0)\n",
    "\n",
    "output_dim = 2\n",
    "# load model\n",
    "tfconfig = tf.ConfigProto(device_count = {'GPU': 0})\n",
    "tf.reset_default_graph()\n",
    "feature_rnn = feature.reshape([1, -1, 9])\n",
    "target_rnn = target[:, [0, 2]].reshape([1, -1, output_dim])\n",
    "model_path = '../../models/LSTM_0428_mid/model.tf-161400'\n",
    "with tf.Session(config=tfconfig) as sess:\n",
    "    loader = tf.train.import_meta_graph(model_path + '.meta')\n",
    "    print('Loading')\n",
    "    loader.restore(sess, model_path)\n",
    "    x = tf.get_collection('rnn_input')[0]\n",
    "    y = tf.get_collection('rnn_output')[0]\n",
    "    regressed = tf.get_collection('regressed')[0]\n",
    "    state_size = tf.get_collection('state_size')[0]\n",
    "    # init_state = tf.get_collection('init_state')[0]\n",
    "    total_loss = tf.get_collection('total_loss')[0]\n",
    "    num_layer = tf.get_collection('num_layer')[0]\n",
    "    target_mean =  np.array([tf.get_collection('target_mean_x')[0],\n",
    "                             tf.get_collection('target_mean_z')[0]])\n",
    "    target_variance = np.array([tf.get_collection('target_variance_x')[0], \n",
    "                                tf.get_collection('target_variance_z')[0]])\n",
    "    \n",
    "    state = tuple([(np.zeros([1, state_size]), np.zeros([1, state_size])) for i in range(num_layer)])\n",
    "    print('regressing')\n",
    "    predicted, loss = sess.run([regressed, total_loss], feed_dict={x: feature_rnn,\n",
    "                                                                    y: target_rnn})\n",
    "    sess.close()\n",
    "predicted = np.array(predicted).reshape(-1, output_dim)\n",
    "predicted = predicted * target_variance + target_mean\n",
    "tf.reset_default_graph()\n",
    "plt.figure('Prediction')\n",
    "plt.subplot(211)\n",
    "plt.plot(ts, target[:, 0])\n",
    "plt.plot(ts, predicted[:, 0])\n",
    "plt.legend(['Ground truth', 'predicted'])\n",
    "plt.subplot(212)\n",
    "plt.plot(ts, target[:, 2])\n",
    "plt.plot(ts, predicted[:, 1])\n",
    "plt.legend(['Ground truth', 'predicted'])\n",
    "\n",
    "#print('Error (tensorflow):', loss)\n",
    "print('Error x: (sklearn):', r2_score(predicted[50:-1:50, 0], target[50:-1:50, 0]))\n",
    "print('Error z: (sklearn):', r2_score(predicted[50:-1:50, 1], target[50:-1:50, 2]))"
   ]
  },
  {
   "cell_type": "code",
   "execution_count": 8,
   "metadata": {
    "collapsed": false
   },
   "outputs": [
    {
     "name": "stdout",
     "output_type": "stream",
     "text": [
      "Small: [  0.1381857   17.73778897   0.74427214]\n",
      "Medium: [  0.26016461  32.12010448   0.48871734]\n",
      "Large: [  0.59057533  30.90661367   0.61855967]\n"
     ]
    }
   ],
   "source": [
    "# plot error curve\n",
    "logs_small = np.genfromtxt('../../models/LSTM_0424_small/losses.txt')\n",
    "logs_mid = np.genfromtxt('../../models/LSTM_0428_mid/losses.txt')\n",
    "logs_full = np.genfromtxt('../../models/LSTM_0501_full/losses.txt')\n",
    "\n",
    "print('Small:', logs_small[-1])\n",
    "print('Medium:', logs_mid[-1])\n",
    "print('Large:', logs_full[-1])\n",
    "# x = np.arange(0, logs.shape[0])\n",
    "# plt.figure('losses')\n",
    "# for i in range(3):\n",
    "#     plt.plot(x, logs[:, i], lw=2)\n",
    "# plt.plot(x, np.average(logs, axis=1), lw=2)\n",
    "# plt.legend(['Training', 'Validation_x', 'Validation_z', 'Validation_all'])"
   ]
  }
 ],
 "metadata": {
  "kernelspec": {
   "display_name": "Python 3",
   "language": "python",
   "name": "python3"
  },
  "language_info": {
   "codemirror_mode": {
    "name": "ipython",
    "version": 3
   },
   "file_extension": ".py",
   "mimetype": "text/x-python",
   "name": "python",
   "nbconvert_exporter": "python",
   "pygments_lexer": "ipython3",
   "version": "3.5.2"
  }
 },
 "nbformat": 4,
 "nbformat_minor": 0
}
