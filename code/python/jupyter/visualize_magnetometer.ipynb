{
 "cells": [
  {
   "cell_type": "code",
   "execution_count": null,
   "metadata": {},
   "outputs": [],
   "source": [
    "%matplotlib notebook\n",
    "import math\n",
    "import matplotlib.pyplot as plt\n",
    "import numpy as np\n",
    "import quaternion\n",
    "import pandas\n",
    "import sys\n",
    "import os\n",
    "from scipy.ndimage.filters import gaussian_filter1d\n",
    "\n",
    "nano_to_sec = 1e09\n",
    "\n",
    "# configure the size of plot\n",
    "fig_size = plt.rcParams['figure.figsize']\n",
    "fig_size[0] = 10\n",
    "fig_size[1] = 10"
   ]
  },
  {
   "cell_type": "code",
   "execution_count": null,
   "metadata": {},
   "outputs": [],
   "source": [
    "def plot_trajectory_with_global_north(position, global_norths, interval=100, length=1.0, c='b'):\n",
    "    \"\"\"\n",
    "    This function draws global norths direction on the trajectory, along with the median global\n",
    "    north direction.\n",
    "    \"\"\"\n",
    "    assert global_norths.shape[0] == position.shape[0]\n",
    "    plt.figure('global_north')\n",
    "    plt.plot(position[:, 0], position[:, 1], color='r')\n",
    "    for i in range(0, position.shape[0], interval):\n",
    "        direction = global_norths[i]\n",
    "        vtx = np.array([position[i], position[i] + direction * length])\n",
    "        plt.plot(vtx[:, 0], vtx[:, 1], color=c)\n",
    "    # Compute and plot the median yaw\n",
    "    median_yaw = np.array([math.atan2(n[1], n[0]) for n in global_norths])\n",
    "    median_yaw = np.median(median_yaw)\n",
    "    median_dir = np.array([math.cos(median_yaw), math.sin(median_yaw)])\n",
    "    median_dir = median_dir / np.linalg.norm(median_dir)\n",
    "    pos_center = np.average(position[:, :2], axis=0)\n",
    "    vtx = np.array([pos_center, pos_center + median_dir * length * 3.0])\n",
    "    plt.plot(vtx[:, 0], vtx[:, 1], color='r', linewidth=3.0)\n",
    "    plt.scatter(pos_center[0], pos_center[1], c='red', s=64)\n",
    "    plt.axis('equal')"
   ]
  },
  {
   "cell_type": "code",
   "execution_count": null,
   "metadata": {},
   "outputs": [],
   "source": [
    "# Replace it with your path\n",
    "data_path = '../../../data_pocket/hang_leg_pos1'\n",
    "data_all = pandas.read_csv(data_path + '/processed/data.csv')\n",
    "positions = data_all[['pos_x', 'pos_y', 'pos_z']].values\n",
    "orientations = data_all[['ori_w', 'ori_x', 'ori_y', 'ori_z']].values\n",
    "gravity = data_all[['grav_x', 'grav_y', 'grav_z']].values\n",
    "magnet = data_all[['magnet_x', 'magnet_y', 'magnet_z']].values\n",
    "\n",
    "global_norths = np.empty(magnet.shape)\n",
    "for i in range(global_norths.shape[0]):\n",
    "    rotor = quaternion.quaternion(*orientations[i])\n",
    "    global_norths[i] = (rotor * quaternion.quaternion(1.0, *magnet[i]) * rotor.conj()).vec\n",
    "\n",
    "global_norths[:, 2] = 0\n",
    "global_norths = global_norths / np.linalg.norm(global_norths, axis=1)[:, np.newaxis]\n",
    "\n",
    "plot_trajectory_with_global_north(positions, global_norths, length=2.0)"
   ]
  }
 ],
 "metadata": {
  "kernelspec": {
   "display_name": "Python 3",
   "language": "python",
   "name": "python3"
  },
  "language_info": {
   "codemirror_mode": {
    "name": "ipython",
    "version": 3
   },
   "file_extension": ".py",
   "mimetype": "text/x-python",
   "name": "python",
   "nbconvert_exporter": "python",
   "pygments_lexer": "ipython3",
   "version": "3.6.6"
  },
  "widgets": {
   "state": {},
   "version": "1.1.1"
  }
 },
 "nbformat": 4,
 "nbformat_minor": 2
}
