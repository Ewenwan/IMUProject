{
 "cells": [
  {
   "cell_type": "code",
   "execution_count": 1,
   "metadata": {
    "collapsed": true
   },
   "outputs": [],
   "source": [
    "%matplotlib notebook\n",
    "import numpy as np\n",
    "import matplotlib.pyplot as plt\n",
    "import pandas\n",
    "import cv2\n",
    "from sklearn import svm\n",
    "from sklearn.metrics import mean_squared_error\n",
    "from sklearn.neighbors import NearestNeighbors\n",
    "from speed_regression import training_data as td\n",
    "from speed_regression import regression\n",
    "from speed_regression import regression_cascade\n",
    "\n",
    "nano_to_sec = 1e09\n",
    "\n",
    "fig_size = plt.rcParams['figure.figsize']\n",
    "fig_size[0] = 10\n",
    "fig_size[1] = 8"
   ]
  },
  {
   "cell_type": "code",
   "execution_count": 2,
   "metadata": {
    "collapsed": true
   },
   "outputs": [],
   "source": [
    "option = td.TrainingDataOption()"
   ]
  },
  {
   "cell_type": "code",
   "execution_count": 13,
   "metadata": {
    "collapsed": false
   },
   "outputs": [
    {
     "name": "stdout",
     "output_type": "stream",
     "text": [
      "Loading dataset ../../data2/hang_handheld_normal1/processed/data.csv, type: handheld\n",
      "Smoothing target with sigma:  30.0\n",
      "Smoothing the signal by gaussian filter: sigma =  2.0\n",
      "Loading dataset ../../data2/hang_handheld_speed1/processed/data.csv, type: handheld\n",
      "Smoothing target with sigma:  30.0\n",
      "Smoothing the signal by gaussian filter: sigma =  2.0\n",
      "Loading dataset ../../data2/hang_handheld_side1/processed/data.csv, type: handheld\n",
      "Smoothing target with sigma:  30.0\n",
      "Smoothing the signal by gaussian filter: sigma =  2.0\n",
      "Loading dataset ../../data2/hang_handheld_spin1/processed/data.csv, type: handheld\n",
      "Smoothing target with sigma:  30.0\n",
      "Smoothing the signal by gaussian filter: sigma =  2.0\n",
      "Loading dataset ../../data2/hang_leg_normal1/processed/data.csv, type: leg\n",
      "Smoothing target with sigma:  30.0\n",
      "Smoothing the signal by gaussian filter: sigma =  2.0\n",
      "Loading dataset ../../data2/hang_leg_speed1/processed/data.csv, type: leg\n",
      "Smoothing target with sigma:  30.0\n",
      "Smoothing the signal by gaussian filter: sigma =  2.0\n",
      "Loading dataset ../../data2/hang_leg_side1/processed/data.csv, type: leg\n",
      "Smoothing target with sigma:  30.0\n",
      "Smoothing the signal by gaussian filter: sigma =  2.0\n",
      "Loading dataset ../../data2/hang_leg_spin1/processed/data.csv, type: leg\n",
      "Smoothing target with sigma:  30.0\n",
      "Smoothing the signal by gaussian filter: sigma =  2.0\n",
      "Loading dataset ../../data2/hang_bag_normal1/processed/data.csv, type: bag\n",
      "Smoothing target with sigma:  30.0\n",
      "Smoothing the signal by gaussian filter: sigma =  2.0\n",
      "Loading dataset ../../data2/hang_bag_speed1/processed/data.csv, type: bag\n",
      "Smoothing target with sigma:  30.0\n",
      "Smoothing the signal by gaussian filter: sigma =  2.0\n",
      "Loading dataset ../../data2/hang_bag_side1/processed/data.csv, type: bag\n",
      "Smoothing target with sigma:  30.0\n",
      "Smoothing the signal by gaussian filter: sigma =  2.0\n",
      "Loading dataset ../../data2/hang_bag_spin1/processed/data.csv, type: bag\n",
      "Smoothing target with sigma:  30.0\n",
      "Smoothing the signal by gaussian filter: sigma =  2.0\n",
      "Loading dataset ../../data2/../data/phab_body/cse_slow/processed/data.csv, type: body\n",
      "Smoothing target with sigma:  30.0\n",
      "Smoothing the signal by gaussian filter: sigma =  2.0\n",
      "Loading dataset ../../data2/../data/phab_body/cse_fast/processed/data.csv, type: body\n",
      "Smoothing target with sigma:  30.0\n",
      "Smoothing the signal by gaussian filter: sigma =  2.0\n",
      "Loading dataset ../../data2/../data/phab_body/cse_side1/processed/data.csv, type: body\n",
      "Smoothing target with sigma:  30.0\n",
      "Smoothing the signal by gaussian filter: sigma =  2.0\n",
      "Loading dataset ../../data2/../data/phab_body/spin1/processed/data.csv, type: body\n",
      "Smoothing target with sigma:  30.0\n",
      "Smoothing the signal by gaussian filter: sigma =  2.0\n",
      "Loading dataset ../../data2/../data/phab_body/spin2/processed/data.csv, type: body\n",
      "Smoothing target with sigma:  30.0\n",
      "Smoothing the signal by gaussian filter: sigma =  2.0\n",
      "Loading dataset ../../data2/../data/phab_body/lopata1/processed/data.csv, type: body\n",
      "Smoothing target with sigma:  30.0\n",
      "Smoothing the signal by gaussian filter: sigma =  2.0\n",
      "Loading dataset ../../data2/hang_handheld_normal2/processed/data.csv, type: handheld\n",
      "Smoothing target with sigma:  30.0\n",
      "Smoothing the signal by gaussian filter: sigma =  2.0\n",
      "Loading dataset ../../data2/hang_handheld_speed2/processed/data.csv, type: handheld\n",
      "Smoothing target with sigma:  30.0\n",
      "Smoothing the signal by gaussian filter: sigma =  2.0\n",
      "Loading dataset ../../data2/hang_handheld_side2/processed/data.csv, type: handheld\n",
      "Smoothing target with sigma:  30.0\n",
      "Smoothing the signal by gaussian filter: sigma =  2.0\n",
      "Loading dataset ../../data2/hang_handheld_spin2/processed/data.csv, type: handheld\n",
      "Smoothing target with sigma:  30.0\n",
      "Smoothing the signal by gaussian filter: sigma =  2.0\n",
      "Loading dataset ../../data2/hang_leg_normal2/processed/data.csv, type: leg\n",
      "Smoothing target with sigma:  30.0\n",
      "Smoothing the signal by gaussian filter: sigma =  2.0\n",
      "Loading dataset ../../data2/hang_leg_speed2/processed/data.csv, type: leg\n",
      "Smoothing target with sigma:  30.0\n",
      "Smoothing the signal by gaussian filter: sigma =  2.0\n",
      "Loading dataset ../../data2/hang_leg_side2/processed/data.csv, type: leg\n",
      "Smoothing target with sigma:  30.0\n",
      "Smoothing the signal by gaussian filter: sigma =  2.0\n",
      "Loading dataset ../../data2/hang_leg_spin2/processed/data.csv, type: leg\n",
      "Smoothing target with sigma:  30.0\n",
      "Smoothing the signal by gaussian filter: sigma =  2.0\n",
      "Loading dataset ../../data2/hang_bag_normal2/processed/data.csv, type: bag\n",
      "Smoothing target with sigma:  30.0\n",
      "Smoothing the signal by gaussian filter: sigma =  2.0\n",
      "Loading dataset ../../data2/hang_bag_speed2/processed/data.csv, type: bag\n",
      "Smoothing target with sigma:  30.0\n",
      "Smoothing the signal by gaussian filter: sigma =  2.0\n",
      "Loading dataset ../../data2/hang_bag_side2/processed/data.csv, type: bag\n",
      "Smoothing target with sigma:  30.0\n",
      "Smoothing the signal by gaussian filter: sigma =  2.0\n",
      "Loading dataset ../../data2/hang_bag_spin2/processed/data.csv, type: bag\n",
      "Smoothing target with sigma:  30.0\n",
      "Smoothing the signal by gaussian filter: sigma =  2.0\n",
      "Loading dataset ../../data2/../data/phab_body/cse1/processed/data.csv, type: body\n",
      "Smoothing target with sigma:  30.0\n",
      "Smoothing the signal by gaussian filter: sigma =  2.0\n",
      "Loading dataset ../../data2/../data/phab_body/cse5/processed/data.csv, type: body\n",
      "Smoothing target with sigma:  30.0\n",
      "Smoothing the signal by gaussian filter: sigma =  2.0\n",
      "Loading dataset ../../data2/../data/phab_body/cse_side2/processed/data.csv, type: body\n",
      "Smoothing target with sigma:  30.0\n",
      "Smoothing the signal by gaussian filter: sigma =  2.0\n",
      "Loading dataset ../../data2/../data/phab_body/spin3/processed/data.csv, type: body\n",
      "Smoothing target with sigma:  30.0\n",
      "Smoothing the signal by gaussian filter: sigma =  2.0\n",
      "Loading dataset ../../data2/../data/phab_body/lopata2/processed/data.csv, type: body\n",
      "Smoothing target with sigma:  30.0\n",
      "Smoothing the signal by gaussian filter: sigma =  2.0\n",
      "Loading dataset ../../data2/../data/phab_body/library1/processed/data.csv, type: body\n",
      "Smoothing target with sigma:  30.0\n",
      "Smoothing the signal by gaussian filter: sigma =  2.0\n"
     ]
    },
    {
     "ename": "NameError",
     "evalue": "name 'model' is not defined",
     "output_type": "error",
     "traceback": [
      "\u001b[0;31m---------------------------------------------------------------------------\u001b[0m",
      "\u001b[0;31mNameError\u001b[0m                                 Traceback (most recent call last)",
      "\u001b[0;32m<ipython-input-13-32b4ef29d440>\u001b[0m in \u001b[0;36m<module>\u001b[0;34m()\u001b[0m\n\u001b[1;32m      8\u001b[0m \u001b[0mtest_responses\u001b[0m \u001b[0;34m=\u001b[0m \u001b[0mtest_responses\u001b[0m\u001b[0;34m[\u001b[0m\u001b[0;34m:\u001b[0m\u001b[0;34m,\u001b[0m \u001b[0;34m[\u001b[0m\u001b[0;36m0\u001b[0m\u001b[0;34m,\u001b[0m \u001b[0;36m2\u001b[0m\u001b[0;34m]\u001b[0m\u001b[0;34m]\u001b[0m\u001b[0;34m\u001b[0m\u001b[0m\n\u001b[1;32m      9\u001b[0m feature_classes = [test_feature[test_label==cls].astype(np.float32)\n\u001b[0;32m---> 10\u001b[0;31m                    for cls in model.class_map.values()]\n\u001b[0m\u001b[1;32m     11\u001b[0m response_classes = [test_responses[test_label==cls].astype(np.float32)\n\u001b[1;32m     12\u001b[0m                     for cls in model.class_map.values()]\n",
      "\u001b[0;31mNameError\u001b[0m: name 'model' is not defined"
     ]
    }
   ],
   "source": [
    "# load testing data\n",
    "class_map = {'handheld':0, 'leg':1, 'bag':2, 'body':3}\n",
    "train_feature, train_label, train_responses, _ = regression_cascade.load_datalist('../../data2/list_small.txt',\n",
    "                                                                              option, class_map)\n",
    "test_feature, test_label, test_responses, _ = regression_cascade.load_datalist('../../data2/list_small2.txt',\n",
    "                                                                              option, class_map)\n",
    "train_responses = train_responses[:, [0, 2]]\n",
    "test_responses = test_responses[:, [0, 2]]\n",
    "feature_classes = [test_feature[test_label==cls].astype(np.float32)\n",
    "                   for cls in model.class_map.values()]\n",
    "response_classes = [test_responses[test_label==cls].astype(np.float32)\n",
    "                    for cls in model.class_map.values()]"
   ]
  },
  {
   "cell_type": "code",
   "execution_count": 8,
   "metadata": {
    "collapsed": false
   },
   "outputs": [
    {
     "name": "stdout",
     "output_type": "stream",
     "text": [
      "(42201, 3) (42201, 3)\n"
     ]
    }
   ],
   "source": [
    "# Train knn\n",
    "knn = NearestNeighbors(n_neighbors=3, algorithm='ball_tree', n_jobs=6).fit(train_feature)"
   ]
  },
  {
   "cell_type": "code",
   "execution_count": 24,
   "metadata": {
    "collapsed": false
   },
   "outputs": [],
   "source": [
    "indices = knn.kneighbors(test_feature, return_distance=False)"
   ]
  },
  {
   "cell_type": "code",
   "execution_count": 25,
   "metadata": {
    "collapsed": false
   },
   "outputs": [
    {
     "name": "stdout",
     "output_type": "stream",
     "text": [
      "mse for channel 0:, 0.22058399478815982\n",
      "mse for channel 1:, 0.15514312680554818\n"
     ]
    }
   ],
   "source": [
    "predicted = np.empty(test_responses.shape)\n",
    "for i in range(test_responses.shape[0]):\n",
    "    predicted[i] = np.average(test_responses[indices[i, :].ravel()], axis=0)\n",
    "for i in range(2):\n",
    "    mse = mean_squared_error(y_true=test_responses[:, i], y_pred=predicted[:, i])\n",
    "    print('mse for channel {}:, {}'.format(i, mse))"
   ]
  },
  {
   "cell_type": "markdown",
   "metadata": {},
   "source": [
    "# KNN with ball tree (k=3)\n",
    "* Training accuracy: (0.006702, 0.004230)\n",
    "* Testing accuracy: (0.220584, 0.155143)"
   ]
  }
 ],
 "metadata": {
  "kernelspec": {
   "display_name": "Python 3",
   "language": "python",
   "name": "python3"
  },
  "language_info": {
   "codemirror_mode": {
    "name": "ipython",
    "version": 3
   },
   "file_extension": ".py",
   "mimetype": "text/x-python",
   "name": "python",
   "nbconvert_exporter": "python",
   "pygments_lexer": "ipython3",
   "version": "3.5.2"
  }
 },
 "nbformat": 4,
 "nbformat_minor": 2
}
